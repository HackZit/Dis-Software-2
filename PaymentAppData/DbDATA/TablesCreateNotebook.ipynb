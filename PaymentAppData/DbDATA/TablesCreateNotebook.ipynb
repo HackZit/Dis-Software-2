{
    "metadata": {
        "kernelspec": {
            "name": "SQL",
            "display_name": "SQL",
            "language": "sql"
        },
        "language_info": {
            "name": "sql",
            "version": ""
        }
    },
    "nbformat_minor": 2,
    "nbformat": 4,
    "cells": [
        {
            "cell_type": "code",
            "source": [
                "SET ANSI_NULLS ON\r\n",
                "GO\r\n",
                "SET QUOTED_IDENTIFIER ON\r\n",
                "GO\r\n",
                "CREATE TABLE [dbo].[Facturas](\r\n",
                "\t[num_tran] [int] IDENTITY(1,1) NOT NULL,\r\n",
                "\t[identificacion] [decimal](10, 0) NULL,\r\n",
                "\t[hora] [time](7) NULL,\r\n",
                "\t[fecha] [date] NULL,\r\n",
                "\t[metodo_pago] [varchar](50) NULL,\r\n",
                "\t[id] [int] NULL,\r\n",
                "\t[cuotas] [int] NULL,\r\n",
                "\t[estado] [bit] NULL,\r\n",
                "\t[sede] [varchar](50) NULL,\r\n",
                "\t[razon] [varchar](50) NULL,\r\n",
                "\t[amount] [float] NULL\r\n",
                ") ON [PRIMARY]\r\n",
                "GO\r\n",
                "ALTER TABLE [dbo].[Facturas] ADD PRIMARY KEY CLUSTERED \r\n",
                "(\r\n",
                "\t[num_tran] ASC\r\n",
                ")WITH (STATISTICS_NORECOMPUTE = OFF, IGNORE_DUP_KEY = OFF, ONLINE = OFF, OPTIMIZE_FOR_SEQUENTIAL_KEY = OFF) ON [PRIMARY]\r\n",
                "GO\r\n",
                "ALTER TABLE [dbo].[Facturas]  WITH CHECK ADD FOREIGN KEY([identificacion])\r\n",
                "REFERENCES [dbo].[Usuarios] ([identificacion])\r\n",
                "GO\r\n",
                ""
            ],
            "metadata": {
                "azdata_cell_guid": "c7a3a383-e880-45d9-8908-ef71d29ec95b",
                "language": "sql"
            },
            "outputs": [],
            "execution_count": null
        },
        {
            "cell_type": "code",
            "source": [
                "SET ANSI_NULLS ON\r\n",
                "GO\r\n",
                "SET QUOTED_IDENTIFIER ON\r\n",
                "GO\r\n",
                "CREATE TABLE [dbo].[Usuarios](\r\n",
                "\t[identificacion] [decimal](10, 0) NOT NULL,\r\n",
                "\t[nombre_completo] [varchar](100) NULL,\r\n",
                "\t[email] [varchar](100) NULL\r\n",
                ") ON [PRIMARY]\r\n",
                "GO\r\n",
                "ALTER TABLE [dbo].[Usuarios] ADD PRIMARY KEY CLUSTERED \r\n",
                "(\r\n",
                "\t[identificacion] ASC\r\n",
                ")WITH (STATISTICS_NORECOMPUTE = OFF, IGNORE_DUP_KEY = OFF, ONLINE = OFF, OPTIMIZE_FOR_SEQUENTIAL_KEY = OFF) ON [PRIMARY]\r\n",
                "GO\r\n",
                ""
            ],
            "metadata": {
                "azdata_cell_guid": "561381e9-d7c5-434e-95cc-01eea52fba66",
                "language": "sql"
            },
            "outputs": [],
            "execution_count": null
        },
        {
            "cell_type": "code",
            "source": [
                "SET ANSI_NULLS ON\r\n",
                "GO\r\n",
                "SET QUOTED_IDENTIFIER ON\r\n",
                "GO\r\n",
                "CREATE TABLE [dbo].[tarjeta_debito](\r\n",
                "\t[id_ahorros] [int] IDENTITY(1,1) NOT NULL,\r\n",
                "\t[identificacion] [decimal](10, 0) NULL,\r\n",
                "\t[banco] [varchar](50) NULL,\r\n",
                "\t[saldo] [decimal](10, 2) NULL,\r\n",
                "\t[estado] [bit] NULL\r\n",
                ") ON [PRIMARY]\r\n",
                "GO\r\n",
                "ALTER TABLE [dbo].[tarjeta_debito] ADD PRIMARY KEY CLUSTERED \r\n",
                "(\r\n",
                "\t[id_ahorros] ASC\r\n",
                ")WITH (STATISTICS_NORECOMPUTE = OFF, IGNORE_DUP_KEY = OFF, ONLINE = OFF, OPTIMIZE_FOR_SEQUENTIAL_KEY = OFF) ON [PRIMARY]\r\n",
                "GO\r\n",
                "ALTER TABLE [dbo].[tarjeta_debito]  WITH CHECK ADD FOREIGN KEY([identificacion])\r\n",
                "REFERENCES [dbo].[Usuarios] ([identificacion])\r\n",
                "GO\r\n",
                ""
            ],
            "metadata": {
                "azdata_cell_guid": "1dc358a6-ecd7-4444-ac5c-d5a9d41aa452",
                "language": "sql"
            },
            "outputs": [],
            "execution_count": null
        },
        {
            "cell_type": "code",
            "source": [
                "SET ANSI_NULLS ON\r\n",
                "GO\r\n",
                "SET QUOTED_IDENTIFIER ON\r\n",
                "GO\r\n",
                "CREATE TABLE [dbo].[Tarjetas](\r\n",
                "\t[id] [int] IDENTITY(1,1) NOT NULL,\r\n",
                "\t[identificacion] [decimal](10, 0) NULL,\r\n",
                "\t[nro_tarjeta] [bigint] NULL,\r\n",
                "\t[ccv] [int] NULL,\r\n",
                "\t[exp_date] [varchar](10) NULL,\r\n",
                "\t[saldo] [decimal](10, 2) NULL,\r\n",
                "\t[payment_prov] [varchar](50) NULL,\r\n",
                "\t[banco] [varchar](50) NULL,\r\n",
                "\t[estadotar] [bit] NULL\r\n",
                ") ON [PRIMARY]\r\n",
                "GO\r\n",
                "ALTER TABLE [dbo].[Tarjetas] ADD PRIMARY KEY CLUSTERED \r\n",
                "(\r\n",
                "\t[id] ASC\r\n",
                ")WITH (STATISTICS_NORECOMPUTE = OFF, IGNORE_DUP_KEY = OFF, ONLINE = OFF, OPTIMIZE_FOR_SEQUENTIAL_KEY = OFF) ON [PRIMARY]\r\n",
                "GO\r\n",
                "ALTER TABLE [dbo].[Tarjetas]  WITH CHECK ADD FOREIGN KEY([identificacion])\r\n",
                "REFERENCES [dbo].[Usuarios] ([identificacion])\r\n",
                "GO\r\n",
                ""
            ],
            "metadata": {
                "azdata_cell_guid": "06eddc42-a5d2-41df-abf2-074ec09a10f9",
                "language": "sql"
            },
            "outputs": [],
            "execution_count": null
        }
    ]
}